{
 "cells": [
  {
   "cell_type": "markdown",
   "metadata": {},
   "source": [
    "# Comments classification: offensive/non-offensive"
   ]
  },
  {
   "cell_type": "markdown",
   "metadata": {},
   "source": [
    "1. Import Dataset"
   ]
  },
  {
   "cell_type": "code",
   "execution_count": 2,
   "metadata": {},
   "outputs": [
    {
     "data": {
      "text/html": [
       "<div>\n",
       "<style scoped>\n",
       "    .dataframe tbody tr th:only-of-type {\n",
       "        vertical-align: middle;\n",
       "    }\n",
       "\n",
       "    .dataframe tbody tr th {\n",
       "        vertical-align: top;\n",
       "    }\n",
       "\n",
       "    .dataframe thead th {\n",
       "        text-align: right;\n",
       "    }\n",
       "</style>\n",
       "<table border=\"1\" class=\"dataframe\">\n",
       "  <thead>\n",
       "    <tr style=\"text-align: right;\">\n",
       "      <th></th>\n",
       "      <th>content</th>\n",
       "      <th>decision</th>\n",
       "    </tr>\n",
       "  </thead>\n",
       "  <tbody>\n",
       "    <tr>\n",
       "      <th>0</th>\n",
       "      <td>یخ علی الخماح مخسر للسیده وجها مازال کتهضرشوهت...</td>\n",
       "      <td>1</td>\n",
       "    </tr>\n",
       "    <tr>\n",
       "      <th>1</th>\n",
       "      <td>یاک مطلقها علاش کیحاسبها داب</td>\n",
       "      <td>1</td>\n",
       "    </tr>\n",
       "    <tr>\n",
       "      <th>2</th>\n",
       "      <td>یاخوفي من بدعة التفاخر بالقتل والتشرمیل والمعص...</td>\n",
       "      <td>1</td>\n",
       "    </tr>\n",
       "    <tr>\n",
       "      <th>3</th>\n",
       "      <td>يوم يكون الصوت سعره يتحدى 30درهم هنا سيصبح الت...</td>\n",
       "      <td>0</td>\n",
       "    </tr>\n",
       "    <tr>\n",
       "      <th>4</th>\n",
       "      <td>يوسف زروالي هو لقتقصدك لدخلو معاه جميعة شباب ا...</td>\n",
       "      <td>0</td>\n",
       "    </tr>\n",
       "  </tbody>\n",
       "</table>\n",
       "</div>"
      ],
      "text/plain": [
       "                                             content  decision\n",
       "0  یخ علی الخماح مخسر للسیده وجها مازال کتهضرشوهت...         1\n",
       "1                       یاک مطلقها علاش کیحاسبها داب         1\n",
       "2  یاخوفي من بدعة التفاخر بالقتل والتشرمیل والمعص...         1\n",
       "3  يوم يكون الصوت سعره يتحدى 30درهم هنا سيصبح الت...         0\n",
       "4  يوسف زروالي هو لقتقصدك لدخلو معاه جميعة شباب ا...         0"
      ]
     },
     "execution_count": 2,
     "metadata": {},
     "output_type": "execute_result"
    }
   ],
   "source": [
    "import pandas as pd\n",
    "df = pd.read_csv('Dataset/CVMAD_04.csv', encoding='UTF-8')### if it doesn't work try 'utf-8-sig'\n",
    "df.head()"
   ]
  },
  {
   "cell_type": "code",
   "execution_count": null,
   "metadata": {},
   "outputs": [],
   "source": [
    "import seaborn as sns # visulization\n",
    "sns.countplot(x=df['decision'])"
   ]
  },
  {
   "cell_type": "markdown",
   "metadata": {},
   "source": [
    "2. Data pre-processing"
   ]
  },
  {
   "cell_type": "code",
   "execution_count": 3,
   "metadata": {},
   "outputs": [],
   "source": [
    "import re\n",
    "def removeWeirdChars(text):\n",
    "    weirdPatterns = re.compile(\"[\"\n",
    "                               u\"\\U0001F600-\\U0001F64F\"  # emoticons\n",
    "                               u\"\\U0001F300-\\U0001F5FF\"  # symbols & pictographs\n",
    "                               u\"\\U0001F680-\\U0001F6FF\"  # transport & map symbols\n",
    "                               u\"\\U0001F1E0-\\U0001F1FF\"  # flags (iOS)\n",
    "                               u\"\\U00002702-\\U000027B0\"\n",
    "                               u\"\\U000024C2-\\U0001F251\"\n",
    "                               u\"\\U0001f926-\\U0001f937\"\n",
    "                               u'\\U00010000-\\U0010ffff'\n",
    "                               u\"\\u200d\"\n",
    "                               u\"\\u2640-\\u2642\"\n",
    "                               u\"\\u2600-\\u2B55\"\n",
    "                               u\"\\u23cf\"\n",
    "                               u\"\\u23e9\"\n",
    "                               u\"\\u231a\"\n",
    "                               u\"\\u3030\"\n",
    "                               u\"\\ufe0f\"\n",
    "                               u\"\\u2069\"\n",
    "                               u\"\\u2066\"\n",
    "                               u\"\\u200c\"\n",
    "                               u\"\\u2068\"\n",
    "                               u\"\\u2067\"\n",
    "                               \"]+\", flags=re.UNICODE)\n",
    "    return weirdPatterns.sub(r'', text)"
   ]
  },
  {
   "cell_type": "code",
   "execution_count": 4,
   "metadata": {},
   "outputs": [],
   "source": [
    "df.content = [removeWeirdChars(d) for d in df.content]"
   ]
  },
  {
   "cell_type": "code",
   "execution_count": 4,
   "metadata": {},
   "outputs": [
    {
     "data": {
      "text/plain": [
       "0    یخ علی الخماح مخسر للسیده وجها مازال کتهضرشوهت...\n",
       "1                         یاک مطلقها علاش کیحاسبها داب\n",
       "2    یاخوفي من بدعة التفاخر بالقتل والتشرمیل والمعص...\n",
       "3    يوم يكون الصوت سعره يتحدى 30درهم هنا سيصبح الت...\n",
       "4    يوسف زروالي هو لقتقصدك لدخلو معاه جميعة شباب ا...\n",
       "5                                             يوسف رجل\n",
       "6        يوسف الزروالي هو لي دخلو لي جمعية شباب الملكي\n",
       "7                        يوزع شكون فيق سكيزو من السبات\n",
       "8      يوتيب تسبب ليا بمرض نفسي وليت كنخاف ومرضت نفسيا\n",
       "9    يهدر واش تتوقع منو وجاية ملمريخ نتا واش قودك ي...\n",
       "Name: content, dtype: object"
      ]
     },
     "execution_count": 4,
     "metadata": {},
     "output_type": "execute_result"
    }
   ],
   "source": [
    "df.content[0:10]"
   ]
  },
  {
   "cell_type": "markdown",
   "metadata": {},
   "source": [
    "3. Data Encoding"
   ]
  },
  {
   "cell_type": "markdown",
   "metadata": {},
   "source": [
    "Word Embedding"
   ]
  },
  {
   "cell_type": "code",
   "execution_count": 5,
   "metadata": {},
   "outputs": [
    {
     "name": "stdout",
     "output_type": "stream",
     "text": [
      "Total 82906 word vectors in MA CBOW model 300d.\n"
     ]
    }
   ],
   "source": [
    "import numpy as np\n",
    "word_embeddings = {}\n",
    "f = open('ma_model_cbow_mix.txt', encoding='utf-8')\n",
    "for line in f:\n",
    "    values = line.split()\n",
    "    word = values[0]\n",
    "    coefs = np.asarray(values[1:], dtype='float32')\n",
    "    word_embeddings[word] = coefs\n",
    "f.close()\n",
    "print('Total %s word vectors in MA CBOW model 300d.' % len(word_embeddings))"
   ]
  },
  {
   "cell_type": "code",
   "execution_count": 6,
   "metadata": {},
   "outputs": [],
   "source": [
    "def get_sentence_vectors(sentence):\n",
    "    sentence_vector = np.zeros((300,))\n",
    "    if len(sentence)==0:\n",
    "        return sentence_vector\n",
    "    for word in sentence:\n",
    "        if word in word_embeddings:\n",
    "            sentence_vector += word_embeddings[word]\n",
    "    sentence_vector = sentence_vector/len(sentence)\n",
    "    return sentence_vector"
   ]
  },
  {
   "cell_type": "code",
   "execution_count": 8,
   "metadata": {},
   "outputs": [
    {
     "data": {
      "text/plain": [
       "82906"
      ]
     },
     "execution_count": 8,
     "metadata": {},
     "output_type": "execute_result"
    }
   ],
   "source": [
    "len(word_embeddings)"
   ]
  },
  {
   "cell_type": "code",
   "execution_count": 7,
   "metadata": {
    "collapsed": true
   },
   "outputs": [
    {
     "data": {
      "text/plain": [
       "array([-0.04573694,  0.10975436, -0.54744524,  0.10996349,  0.20633675,\n",
       "        0.90674895,  0.11491557,  0.72445756,  0.58139473, -0.2946483 ,\n",
       "       -0.7712647 , -0.17335273,  0.33888417, -0.20815212,  0.46175632,\n",
       "        0.38756797,  0.28463918, -0.03309639, -0.08293769, -0.13326049,\n",
       "       -0.58587915, -0.48430493, -0.16314602, -0.38404787,  0.08127248,\n",
       "       -0.8705088 ,  0.33157548,  0.3544283 ,  0.5581337 ,  0.08885915,\n",
       "       -1.1427025 ,  0.92506343, -0.09592154,  0.5934387 ,  0.3629863 ,\n",
       "       -0.21132165,  0.30229187,  0.16288331, -0.31264427, -0.04881828,\n",
       "       -0.08142379, -1.4429231 , -0.66444516, -1.4426838 , -1.0821352 ,\n",
       "       -0.05486058,  0.8075012 ,  0.6802713 ,  1.0687793 , -1.7807748 ,\n",
       "       -1.0383372 ,  1.5321866 , -0.8323125 ,  0.3871929 , -0.6774203 ,\n",
       "        1.2722178 ,  0.6946758 , -0.8461339 ,  1.0099423 ,  0.37826127,\n",
       "        0.580605  , -0.18887214, -0.8269939 ,  0.958509  ,  0.4126865 ,\n",
       "       -2.1811097 ,  1.2467979 , -0.53286076, -1.0175996 , -1.9067664 ,\n",
       "        0.28666314,  0.3211824 ,  0.36152586,  0.03873236,  0.11567222,\n",
       "       -0.27572855,  0.40008596, -0.48754787,  0.38737082, -0.28418565,\n",
       "        0.67531437, -1.0435778 ,  0.5332273 ,  0.31403878, -0.16006146,\n",
       "        0.44669232, -0.37455004,  0.64760715,  0.7944252 , -0.1673101 ,\n",
       "        0.31114537,  0.35829428,  0.82467514, -0.09859738,  0.06952368,\n",
       "        0.743998  ,  0.8606476 ,  1.0330786 ,  0.195368  ,  1.466137  ,\n",
       "       -0.6869376 , -1.2886313 ,  0.11665289,  0.15212166,  0.19238776,\n",
       "        0.17601818,  0.08058965,  1.0208833 , -0.03398788, -0.55130786,\n",
       "        0.4621483 , -0.64151394, -0.56264687,  1.7667924 , -0.04481786,\n",
       "        0.29160935,  0.6163913 ,  0.3575182 ,  0.17079593,  0.66659355,\n",
       "        0.7490147 , -0.42043036,  0.33001426,  0.6902049 ,  0.23821431,\n",
       "        0.02644712,  0.38899824, -0.36792997,  0.56095576, -0.98421913,\n",
       "       -0.2874532 ,  0.3757048 , -1.1953392 , -0.05551673, -1.0462332 ,\n",
       "        0.04884027,  0.90418273, -0.9727971 , -1.7145156 , -1.1016665 ,\n",
       "       -0.33412576, -0.722329  ,  0.46915868,  0.3176587 ,  0.24564196,\n",
       "       -0.09449758, -1.0090467 ,  0.4640847 ,  0.24685602, -1.2121451 ,\n",
       "        0.10896289, -0.7096809 ,  0.48300418,  0.82026994,  0.94324416,\n",
       "       -0.28381893,  0.07218458, -0.67454314, -0.10222086,  0.29554874,\n",
       "        0.29396585, -0.8139636 ,  0.39564413,  0.28563786, -0.26136607,\n",
       "       -0.0583098 ,  0.03789631, -0.34128886,  0.7606736 ,  0.14564306,\n",
       "       -0.50173235, -1.1107835 ,  0.87112564,  0.5338736 ,  0.01818668,\n",
       "       -0.58225363, -0.67159975,  0.28691524,  0.7000783 , -0.72561646,\n",
       "       -1.0841587 ,  0.53386396,  0.5334085 , -0.25284845, -0.25336596,\n",
       "       -0.5405159 , -0.17162363,  0.78928316, -0.08952992,  0.20135465,\n",
       "       -0.18344052, -0.32828787, -0.47056177, -0.26173648, -1.1484044 ,\n",
       "       -0.61582357, -0.45826966, -0.24168205,  0.34647277, -0.07735737,\n",
       "        0.17120305,  0.0751796 ,  0.1872714 , -0.23097934, -0.42335337,\n",
       "       -0.10099858, -0.29352722,  0.43377486, -0.27743602, -0.15559284,\n",
       "       -0.3133551 ,  0.22013408, -0.05825771, -0.23800316,  0.14629157,\n",
       "       -0.14093001,  0.0188139 ,  0.74367267, -0.3296734 ,  0.292064  ,\n",
       "        0.9152014 , -0.02085374, -0.23566242, -0.13253464, -0.2467406 ,\n",
       "        0.40335378,  0.38945192, -0.49726966,  0.22120316, -0.37177756,\n",
       "       -0.5032751 , -0.12007734, -0.51552415,  0.03376446, -0.0056019 ,\n",
       "       -0.24845704, -0.14730877,  0.6970639 , -0.8460207 , -0.05524404,\n",
       "        0.35982296, -0.42743808, -0.29602206, -0.02273015, -0.11585757,\n",
       "       -0.50278836,  0.2769604 ,  0.43382564, -0.32675695,  0.6271812 ,\n",
       "       -0.16024353, -0.0462746 , -0.5787718 , -1.1189721 , -0.02874156,\n",
       "        0.95784515, -0.24875918, -0.48838556, -0.04487803, -0.16217646,\n",
       "        1.0770543 ,  1.3823991 , -0.13060248,  0.16246803, -0.91504985,\n",
       "        0.69631225,  0.83266366,  0.04545341,  0.2828461 , -0.47607428,\n",
       "        0.9277611 ,  0.27869776,  0.46836594,  0.12693599,  0.09989545,\n",
       "        0.24356651,  1.0118709 ,  0.17145653,  0.01318971, -0.59942544,\n",
       "        0.09780236, -0.3551247 ,  0.63755554, -0.29126403,  0.41551647,\n",
       "       -0.6987968 , -0.03297559,  0.19081992,  0.41264516, -1.3063927 ,\n",
       "       -0.61155164, -0.21630456,  1.0130134 , -0.49628645, -0.87892354,\n",
       "       -0.1841479 , -0.32971922,  0.38749847, -0.40484345, -0.02286607],\n",
       "      dtype=float32)"
      ]
     },
     "execution_count": 7,
     "metadata": {},
     "output_type": "execute_result"
    }
   ],
   "source": [
    "word_embeddings['علاش']"
   ]
  },
  {
   "cell_type": "code",
   "execution_count": 8,
   "metadata": {},
   "outputs": [
    {
     "data": {
      "text/html": [
       "<div>\n",
       "<style scoped>\n",
       "    .dataframe tbody tr th:only-of-type {\n",
       "        vertical-align: middle;\n",
       "    }\n",
       "\n",
       "    .dataframe tbody tr th {\n",
       "        vertical-align: top;\n",
       "    }\n",
       "\n",
       "    .dataframe thead th {\n",
       "        text-align: right;\n",
       "    }\n",
       "</style>\n",
       "<table border=\"1\" class=\"dataframe\">\n",
       "  <thead>\n",
       "    <tr style=\"text-align: right;\">\n",
       "      <th></th>\n",
       "      <th>content</th>\n",
       "      <th>decision</th>\n",
       "    </tr>\n",
       "  </thead>\n",
       "  <tbody>\n",
       "    <tr>\n",
       "      <th>0</th>\n",
       "      <td>[0.03822386347585254, 0.030719361233490484, -0...</td>\n",
       "      <td>1</td>\n",
       "    </tr>\n",
       "    <tr>\n",
       "      <th>1</th>\n",
       "      <td>[-0.016081052499690225, -0.011788641102612019,...</td>\n",
       "      <td>1</td>\n",
       "    </tr>\n",
       "    <tr>\n",
       "      <th>2</th>\n",
       "      <td>[0.014637194904140555, 0.01521033041895582, -0...</td>\n",
       "      <td>1</td>\n",
       "    </tr>\n",
       "    <tr>\n",
       "      <th>3</th>\n",
       "      <td>[0.027888019090971432, 0.02286620584929043, -0...</td>\n",
       "      <td>0</td>\n",
       "    </tr>\n",
       "    <tr>\n",
       "      <th>4</th>\n",
       "      <td>[0.04122190000306742, 0.028468514847404817, -0...</td>\n",
       "      <td>0</td>\n",
       "    </tr>\n",
       "  </tbody>\n",
       "</table>\n",
       "</div>"
      ],
      "text/plain": [
       "                                             content  decision\n",
       "0  [0.03822386347585254, 0.030719361233490484, -0...         1\n",
       "1  [-0.016081052499690225, -0.011788641102612019,...         1\n",
       "2  [0.014637194904140555, 0.01521033041895582, -0...         1\n",
       "3  [0.027888019090971432, 0.02286620584929043, -0...         0\n",
       "4  [0.04122190000306742, 0.028468514847404817, -0...         0"
      ]
     },
     "execution_count": 8,
     "metadata": {},
     "output_type": "execute_result"
    }
   ],
   "source": [
    "df[\"content\"] = df[\"content\"].apply(get_sentence_vectors)\n",
    "df.head()"
   ]
  },
  {
   "cell_type": "markdown",
   "metadata": {},
   "source": [
    "4. Modeling"
   ]
  },
  {
   "cell_type": "markdown",
   "metadata": {},
   "source": [
    "5. Data splitting"
   ]
  },
  {
   "cell_type": "code",
   "execution_count": 9,
   "metadata": {},
   "outputs": [],
   "source": [
    "X = df.content\n",
    "y = df.decision"
   ]
  },
  {
   "cell_type": "code",
   "execution_count": 10,
   "metadata": {},
   "outputs": [
    {
     "data": {
      "text/plain": [
       "0    [0.03822386347585254, 0.030719361233490484, -0...\n",
       "1    [-0.016081052499690225, -0.011788641102612019,...\n",
       "2    [0.014637194904140555, 0.01521033041895582, -0...\n",
       "Name: content, dtype: object"
      ]
     },
     "execution_count": 10,
     "metadata": {},
     "output_type": "execute_result"
    }
   ],
   "source": [
    "X[0:3]"
   ]
  },
  {
   "cell_type": "code",
   "execution_count": 11,
   "metadata": {},
   "outputs": [
    {
     "data": {
      "text/plain": [
       "(23000,)"
      ]
     },
     "execution_count": 11,
     "metadata": {},
     "output_type": "execute_result"
    }
   ],
   "source": [
    "X.shape"
   ]
  },
  {
   "cell_type": "code",
   "execution_count": 13,
   "metadata": {},
   "outputs": [
    {
     "data": {
      "text/plain": [
       "0    1\n",
       "1    1\n",
       "2    1\n",
       "Name: decision, dtype: int64"
      ]
     },
     "execution_count": 13,
     "metadata": {},
     "output_type": "execute_result"
    }
   ],
   "source": [
    "y[0:3]"
   ]
  },
  {
   "cell_type": "code",
   "execution_count": 12,
   "metadata": {},
   "outputs": [],
   "source": [
    "\"\"\" Sckaling and Splitting the dataset into training, validation and test sets \"\"\"\n",
    "from sklearn.preprocessing import StandardScaler\n",
    "from sklearn.model_selection import train_test_split\n",
    "\n",
    "#scaler = StandardScaler()\n",
    "#X_sacaled=scaler.fit_transform(X)\n",
    "\n",
    "train_X, test_X, train_y, test_y = train_test_split(X.to_list(), y.to_list(), random_state=50, test_size=0.3)"
   ]
  },
  {
   "cell_type": "code",
   "execution_count": 13,
   "metadata": {},
   "outputs": [
    {
     "data": {
      "text/plain": [
       "GaussianNB(priors=None, var_smoothing=1e-09)"
      ]
     },
     "execution_count": 13,
     "metadata": {},
     "output_type": "execute_result"
    }
   ],
   "source": [
    "from sklearn.naive_bayes import GaussianNB\n",
    "clf = GaussianNB()\n",
    "clf.fit(train_X, train_y)"
   ]
  },
  {
   "cell_type": "code",
   "execution_count": 14,
   "metadata": {},
   "outputs": [],
   "source": [
    "pred_y=clf.predict(test_X)"
   ]
  },
  {
   "cell_type": "code",
   "execution_count": 15,
   "metadata": {},
   "outputs": [
    {
     "data": {
      "text/plain": [
       "array([[1171, 2254],\n",
       "       [1085, 2390]], dtype=int64)"
      ]
     },
     "execution_count": 15,
     "metadata": {},
     "output_type": "execute_result"
    }
   ],
   "source": [
    "# import the metrics class\n",
    "from sklearn import metrics\n",
    "cnf_matrix = metrics.confusion_matrix(test_y, pred_y)\n",
    "cnf_matrix"
   ]
  },
  {
   "cell_type": "code",
   "execution_count": 16,
   "metadata": {},
   "outputs": [
    {
     "name": "stdout",
     "output_type": "stream",
     "text": [
      "              precision    recall  f1-score   support\n",
      "\n",
      "           0       0.52      0.34      0.41      3425\n",
      "           1       0.51      0.69      0.59      3475\n",
      "\n",
      "   micro avg       0.52      0.52      0.52      6900\n",
      "   macro avg       0.52      0.51      0.50      6900\n",
      "weighted avg       0.52      0.52      0.50      6900\n",
      "\n"
     ]
    }
   ],
   "source": [
    "from sklearn.metrics import classification_report\n",
    "print(classification_report(test_y, pred_y))"
   ]
  },
  {
   "cell_type": "code",
   "execution_count": null,
   "metadata": {},
   "outputs": [],
   "source": []
  }
 ],
 "metadata": {
  "kernelspec": {
   "display_name": "Python 3",
   "language": "python",
   "name": "python3"
  },
  "language_info": {
   "codemirror_mode": {
    "name": "ipython",
    "version": 3
   },
   "file_extension": ".py",
   "mimetype": "text/x-python",
   "name": "python",
   "nbconvert_exporter": "python",
   "pygments_lexer": "ipython3",
   "version": "3.7.3"
  }
 },
 "nbformat": 4,
 "nbformat_minor": 2
}
