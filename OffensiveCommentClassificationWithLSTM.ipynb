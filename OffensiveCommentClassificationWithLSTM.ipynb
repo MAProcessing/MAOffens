{
 "cells": [
  {
   "cell_type": "markdown",
   "metadata": {},
   "source": [
    "# Comments classification: offensive/non-offensive"
   ]
  },
  {
   "cell_type": "markdown",
   "metadata": {},
   "source": [
    "1. Import Dataset"
   ]
  },
  {
   "cell_type": "code",
   "execution_count": 1,
   "metadata": {},
   "outputs": [
    {
     "data": {
      "text/html": [
       "<div>\n",
       "<style scoped>\n",
       "    .dataframe tbody tr th:only-of-type {\n",
       "        vertical-align: middle;\n",
       "    }\n",
       "\n",
       "    .dataframe tbody tr th {\n",
       "        vertical-align: top;\n",
       "    }\n",
       "\n",
       "    .dataframe thead th {\n",
       "        text-align: right;\n",
       "    }\n",
       "</style>\n",
       "<table border=\"1\" class=\"dataframe\">\n",
       "  <thead>\n",
       "    <tr style=\"text-align: right;\">\n",
       "      <th></th>\n",
       "      <th>content</th>\n",
       "      <th>decision</th>\n",
       "    </tr>\n",
       "  </thead>\n",
       "  <tbody>\n",
       "    <tr>\n",
       "      <th>0</th>\n",
       "      <td>یخ علی الخماح مخسر للسیده وجها مازال کتهضرشوهت...</td>\n",
       "      <td>1</td>\n",
       "    </tr>\n",
       "    <tr>\n",
       "      <th>1</th>\n",
       "      <td>یاک مطلقها علاش کیحاسبها داب</td>\n",
       "      <td>1</td>\n",
       "    </tr>\n",
       "    <tr>\n",
       "      <th>2</th>\n",
       "      <td>یاخوفي من بدعة التفاخر بالقتل والتشرمیل والمعص...</td>\n",
       "      <td>1</td>\n",
       "    </tr>\n",
       "    <tr>\n",
       "      <th>3</th>\n",
       "      <td>يوم يكون الصوت سعره يتحدى 30درهم هنا سيصبح الت...</td>\n",
       "      <td>0</td>\n",
       "    </tr>\n",
       "    <tr>\n",
       "      <th>4</th>\n",
       "      <td>يوسف زروالي هو لقتقصدك لدخلو معاه جميعة شباب ا...</td>\n",
       "      <td>0</td>\n",
       "    </tr>\n",
       "  </tbody>\n",
       "</table>\n",
       "</div>"
      ],
      "text/plain": [
       "                                             content  decision\n",
       "0  یخ علی الخماح مخسر للسیده وجها مازال کتهضرشوهت...         1\n",
       "1                       یاک مطلقها علاش کیحاسبها داب         1\n",
       "2  یاخوفي من بدعة التفاخر بالقتل والتشرمیل والمعص...         1\n",
       "3  يوم يكون الصوت سعره يتحدى 30درهم هنا سيصبح الت...         0\n",
       "4  يوسف زروالي هو لقتقصدك لدخلو معاه جميعة شباب ا...         0"
      ]
     },
     "execution_count": 1,
     "metadata": {},
     "output_type": "execute_result"
    }
   ],
   "source": [
    "import pandas as pd\n",
    "df = pd.read_csv('Dataset/CVMAD_04.csv', encoding='UTF-8')### if it doesn't work try 'utf-8-sig'\n",
    "df.head()"
   ]
  },
  {
   "cell_type": "code",
   "execution_count": null,
   "metadata": {},
   "outputs": [],
   "source": [
    "import seaborn as sns # visulization\n",
    "sns.countplot(x=df['decision'])"
   ]
  },
  {
   "cell_type": "markdown",
   "metadata": {},
   "source": [
    "2. Data pre-processing"
   ]
  },
  {
   "cell_type": "code",
   "execution_count": 3,
   "metadata": {},
   "outputs": [],
   "source": [
    "import re\n",
    "def removeWeirdChars(text):\n",
    "    weirdPatterns = re.compile(\"[\"\n",
    "                               u\"\\U0001F600-\\U0001F64F\"  # emoticons\n",
    "                               u\"\\U0001F300-\\U0001F5FF\"  # symbols & pictographs\n",
    "                               u\"\\U0001F680-\\U0001F6FF\"  # transport & map symbols\n",
    "                               u\"\\U0001F1E0-\\U0001F1FF\"  # flags (iOS)\n",
    "                               u\"\\U00002702-\\U000027B0\"\n",
    "                               u\"\\U000024C2-\\U0001F251\"\n",
    "                               u\"\\U0001f926-\\U0001f937\"\n",
    "                               u'\\U00010000-\\U0010ffff'\n",
    "                               u\"\\u200d\"\n",
    "                               u\"\\u2640-\\u2642\"\n",
    "                               u\"\\u2600-\\u2B55\"\n",
    "                               u\"\\u23cf\"\n",
    "                               u\"\\u23e9\"\n",
    "                               u\"\\u231a\"\n",
    "                               u\"\\u3030\"\n",
    "                               u\"\\ufe0f\"\n",
    "                               u\"\\u2069\"\n",
    "                               u\"\\u2066\"\n",
    "                               u\"\\u200c\"\n",
    "                               u\"\\u2068\"\n",
    "                               u\"\\u2067\"\n",
    "                               \"]+\", flags=re.UNICODE)\n",
    "    return weirdPatterns.sub(r'', text)"
   ]
  },
  {
   "cell_type": "code",
   "execution_count": 4,
   "metadata": {},
   "outputs": [],
   "source": [
    "df.content = [removeWeirdChars(d) for d in df.content]"
   ]
  },
  {
   "cell_type": "code",
   "execution_count": 5,
   "metadata": {},
   "outputs": [
    {
     "data": {
      "text/plain": [
       "0     یخ علی الخماح مخسر للسیده وجها مازال کتهضرشوهت...\n",
       "1                          یاک مطلقها علاش کیحاسبها داب\n",
       "2     یاخوفي من بدعة التفاخر بالقتل والتشرمیل والمعص...\n",
       "3     يوم يكون الصوت سعره يتحدى 30درهم هنا سيصبح الت...\n",
       "4     يوسف زروالي هو لقتقصدك لدخلو معاه جميعة شباب ا...\n",
       "5                                              يوسف رجل\n",
       "6         يوسف الزروالي هو لي دخلو لي جمعية شباب الملكي\n",
       "7                         يوزع شكون فيق سكيزو من السبات\n",
       "8       يوتيب تسبب ليا بمرض نفسي وليت كنخاف ومرضت نفسيا\n",
       "9     يهدر واش تتوقع منو وجاية ملمريخ نتا واش قودك ي...\n",
       "10                                          يهدر كي نسا\n",
       "11    يهدر بحال النسا سبحان الله يا حبيبتي ه و اليد ...\n",
       "12                                   يه الحاجة طامو يه؟\n",
       "13                                       ينقجو و ينحقزو\n",
       "14    ينعل تحية ليك من طانطان هاد شعب فيهم غا هضرة ت...\n",
       "15            ينعل بو زواج الى كان هكا نبقاو بايرات حسن\n",
       "16                    ينصاب يا لقمار يا سكاير طالب سيدك\n",
       "17                        ينتقم للمستقبل ويريد حكم نزيه\n",
       "18       يمهل ولا يهمل غدي تبان فيك اولدي عقل على كلمتي\n",
       "19                 يمهدون الطريق لوكالة النموذج التنموي\n",
       "Name: content, dtype: object"
      ]
     },
     "execution_count": 5,
     "metadata": {},
     "output_type": "execute_result"
    }
   ],
   "source": [
    "df.content[0:20]"
   ]
  },
  {
   "cell_type": "code",
   "execution_count": 6,
   "metadata": {},
   "outputs": [],
   "source": [
    "import string\n",
    "df.content = [cmt.translate(str.maketrans('', '', string.punctuation)) for cmt in df.content]"
   ]
  },
  {
   "cell_type": "code",
   "execution_count": 8,
   "metadata": {},
   "outputs": [
    {
     "data": {
      "text/plain": [
       "0     یخ علی الخماح مخسر للسیده وجها مازال کتهضرشوهت...\n",
       "1                          یاک مطلقها علاش کیحاسبها داب\n",
       "2     یاخوفي من بدعة التفاخر بالقتل والتشرمیل والمعص...\n",
       "3     يوم يكون الصوت سعره يتحدى 30درهم هنا سيصبح الت...\n",
       "4     يوسف زروالي هو لقتقصدك لدخلو معاه جميعة شباب ا...\n",
       "5                                              يوسف رجل\n",
       "6         يوسف الزروالي هو لي دخلو لي جمعية شباب الملكي\n",
       "7                         يوزع شكون فيق سكيزو من السبات\n",
       "8       يوتيب تسبب ليا بمرض نفسي وليت كنخاف ومرضت نفسيا\n",
       "9     يهدر واش تتوقع منو وجاية ملمريخ نتا واش قودك ي...\n",
       "10                                          يهدر كي نسا\n",
       "11    يهدر بحال النسا سبحان الله يا حبيبتي ه و اليد ...\n",
       "12                                   يه الحاجة طامو يه؟\n",
       "13                                       ينقجو و ينحقزو\n",
       "14    ينعل تحية ليك من طانطان هاد شعب فيهم غا هضرة ت...\n",
       "15            ينعل بو زواج الى كان هكا نبقاو بايرات حسن\n",
       "16                    ينصاب يا لقمار يا سكاير طالب سيدك\n",
       "17                        ينتقم للمستقبل ويريد حكم نزيه\n",
       "18       يمهل ولا يهمل غدي تبان فيك اولدي عقل على كلمتي\n",
       "19                 يمهدون الطريق لوكالة النموذج التنموي\n",
       "Name: content, dtype: object"
      ]
     },
     "execution_count": 8,
     "metadata": {},
     "output_type": "execute_result"
    }
   ],
   "source": [
    "df.content[0:20]"
   ]
  },
  {
   "cell_type": "markdown",
   "metadata": {},
   "source": [
    "3. Data Encoding"
   ]
  },
  {
   "cell_type": "code",
   "execution_count": 26,
   "metadata": {},
   "outputs": [],
   "source": [
    "import tensorflow as tf\n",
    "from tensorflow import keras \n",
    "from tensorflow.keras import layers\n",
    "from tensorflow.keras import models \n",
    "from tensorflow.keras.preprocessing.text import one_hot\n",
    "from tensorflow.keras.preprocessing.sequence import pad_sequences"
   ]
  },
  {
   "cell_type": "code",
   "execution_count": 11,
   "metadata": {},
   "outputs": [
    {
     "data": {
      "text/plain": [
       "(72.38460869565218, 88.66973653460076, 2352)"
      ]
     },
     "execution_count": 11,
     "metadata": {},
     "output_type": "execute_result"
    }
   ],
   "source": [
    "lens = df.content.str.len()\n",
    "lens.mean(), lens.std(), lens.max()"
   ]
  },
  {
   "cell_type": "code",
   "execution_count": 7,
   "metadata": {},
   "outputs": [
    {
     "name": "stdout",
     "output_type": "stream",
     "text": [
      "2352\n"
     ]
    }
   ],
   "source": [
    "max_length = df.content.str.len().max()\n",
    "print(max_length)"
   ]
  },
  {
   "cell_type": "code",
   "execution_count": null,
   "metadata": {},
   "outputs": [],
   "source": [
    "lens.hist()"
   ]
  },
  {
   "cell_type": "markdown",
   "metadata": {},
   "source": [
    "Word Embedding"
   ]
  },
  {
   "cell_type": "code",
   "execution_count": 12,
   "metadata": {},
   "outputs": [
    {
     "name": "stdout",
     "output_type": "stream",
     "text": [
      "Number of Unique Tokens 75033\n"
     ]
    }
   ],
   "source": [
    "from keras.preprocessing.text import Tokenizer\n",
    "\n",
    "text= df.content\n",
    "\n",
    "tokenizer = Tokenizer()\n",
    "tokenizer.fit_on_texts(text)\n",
    "sequences = tokenizer.texts_to_sequences(text)\n",
    "word_index = tokenizer.word_index\n",
    "print('Number of Unique Tokens',len(word_index))\n",
    "\n",
    "#Pad sequences\n",
    "from keras.preprocessing.sequence import pad_sequences\n",
    "MAX_SEQUENCE_LENGTH = 60\n",
    "data = pad_sequences(sequences, maxlen=MAX_SEQUENCE_LENGTH, padding='post')"
   ]
  },
  {
   "cell_type": "code",
   "execution_count": 9,
   "metadata": {
    "collapsed": true
   },
   "outputs": [
    {
     "data": {
      "text/plain": [
       "array([-0.04573694,  0.10975436, -0.54744524,  0.10996349,  0.20633675,\n",
       "        0.90674895,  0.11491557,  0.72445756,  0.58139473, -0.2946483 ,\n",
       "       -0.7712647 , -0.17335273,  0.33888417, -0.20815212,  0.46175632,\n",
       "        0.38756797,  0.28463918, -0.03309639, -0.08293769, -0.13326049,\n",
       "       -0.58587915, -0.48430493, -0.16314602, -0.38404787,  0.08127248,\n",
       "       -0.8705088 ,  0.33157548,  0.3544283 ,  0.5581337 ,  0.08885915,\n",
       "       -1.1427025 ,  0.92506343, -0.09592154,  0.5934387 ,  0.3629863 ,\n",
       "       -0.21132165,  0.30229187,  0.16288331, -0.31264427, -0.04881828,\n",
       "       -0.08142379, -1.4429231 , -0.66444516, -1.4426838 , -1.0821352 ,\n",
       "       -0.05486058,  0.8075012 ,  0.6802713 ,  1.0687793 , -1.7807748 ,\n",
       "       -1.0383372 ,  1.5321866 , -0.8323125 ,  0.3871929 , -0.6774203 ,\n",
       "        1.2722178 ,  0.6946758 , -0.8461339 ,  1.0099423 ,  0.37826127,\n",
       "        0.580605  , -0.18887214, -0.8269939 ,  0.958509  ,  0.4126865 ,\n",
       "       -2.1811097 ,  1.2467979 , -0.53286076, -1.0175996 , -1.9067664 ,\n",
       "        0.28666314,  0.3211824 ,  0.36152586,  0.03873236,  0.11567222,\n",
       "       -0.27572855,  0.40008596, -0.48754787,  0.38737082, -0.28418565,\n",
       "        0.67531437, -1.0435778 ,  0.5332273 ,  0.31403878, -0.16006146,\n",
       "        0.44669232, -0.37455004,  0.64760715,  0.7944252 , -0.1673101 ,\n",
       "        0.31114537,  0.35829428,  0.82467514, -0.09859738,  0.06952368,\n",
       "        0.743998  ,  0.8606476 ,  1.0330786 ,  0.195368  ,  1.466137  ,\n",
       "       -0.6869376 , -1.2886313 ,  0.11665289,  0.15212166,  0.19238776,\n",
       "        0.17601818,  0.08058965,  1.0208833 , -0.03398788, -0.55130786,\n",
       "        0.4621483 , -0.64151394, -0.56264687,  1.7667924 , -0.04481786,\n",
       "        0.29160935,  0.6163913 ,  0.3575182 ,  0.17079593,  0.66659355,\n",
       "        0.7490147 , -0.42043036,  0.33001426,  0.6902049 ,  0.23821431,\n",
       "        0.02644712,  0.38899824, -0.36792997,  0.56095576, -0.98421913,\n",
       "       -0.2874532 ,  0.3757048 , -1.1953392 , -0.05551673, -1.0462332 ,\n",
       "        0.04884027,  0.90418273, -0.9727971 , -1.7145156 , -1.1016665 ,\n",
       "       -0.33412576, -0.722329  ,  0.46915868,  0.3176587 ,  0.24564196,\n",
       "       -0.09449758, -1.0090467 ,  0.4640847 ,  0.24685602, -1.2121451 ,\n",
       "        0.10896289, -0.7096809 ,  0.48300418,  0.82026994,  0.94324416,\n",
       "       -0.28381893,  0.07218458, -0.67454314, -0.10222086,  0.29554874,\n",
       "        0.29396585, -0.8139636 ,  0.39564413,  0.28563786, -0.26136607,\n",
       "       -0.0583098 ,  0.03789631, -0.34128886,  0.7606736 ,  0.14564306,\n",
       "       -0.50173235, -1.1107835 ,  0.87112564,  0.5338736 ,  0.01818668,\n",
       "       -0.58225363, -0.67159975,  0.28691524,  0.7000783 , -0.72561646,\n",
       "       -1.0841587 ,  0.53386396,  0.5334085 , -0.25284845, -0.25336596,\n",
       "       -0.5405159 , -0.17162363,  0.78928316, -0.08952992,  0.20135465,\n",
       "       -0.18344052, -0.32828787, -0.47056177, -0.26173648, -1.1484044 ,\n",
       "       -0.61582357, -0.45826966, -0.24168205,  0.34647277, -0.07735737,\n",
       "        0.17120305,  0.0751796 ,  0.1872714 , -0.23097934, -0.42335337,\n",
       "       -0.10099858, -0.29352722,  0.43377486, -0.27743602, -0.15559284,\n",
       "       -0.3133551 ,  0.22013408, -0.05825771, -0.23800316,  0.14629157,\n",
       "       -0.14093001,  0.0188139 ,  0.74367267, -0.3296734 ,  0.292064  ,\n",
       "        0.9152014 , -0.02085374, -0.23566242, -0.13253464, -0.2467406 ,\n",
       "        0.40335378,  0.38945192, -0.49726966,  0.22120316, -0.37177756,\n",
       "       -0.5032751 , -0.12007734, -0.51552415,  0.03376446, -0.0056019 ,\n",
       "       -0.24845704, -0.14730877,  0.6970639 , -0.8460207 , -0.05524404,\n",
       "        0.35982296, -0.42743808, -0.29602206, -0.02273015, -0.11585757,\n",
       "       -0.50278836,  0.2769604 ,  0.43382564, -0.32675695,  0.6271812 ,\n",
       "       -0.16024353, -0.0462746 , -0.5787718 , -1.1189721 , -0.02874156,\n",
       "        0.95784515, -0.24875918, -0.48838556, -0.04487803, -0.16217646,\n",
       "        1.0770543 ,  1.3823991 , -0.13060248,  0.16246803, -0.91504985,\n",
       "        0.69631225,  0.83266366,  0.04545341,  0.2828461 , -0.47607428,\n",
       "        0.9277611 ,  0.27869776,  0.46836594,  0.12693599,  0.09989545,\n",
       "        0.24356651,  1.0118709 ,  0.17145653,  0.01318971, -0.59942544,\n",
       "        0.09780236, -0.3551247 ,  0.63755554, -0.29126403,  0.41551647,\n",
       "       -0.6987968 , -0.03297559,  0.19081992,  0.41264516, -1.3063927 ,\n",
       "       -0.61155164, -0.21630456,  1.0130134 , -0.49628645, -0.87892354,\n",
       "       -0.1841479 , -0.32971922,  0.38749847, -0.40484345, -0.02286607],\n",
       "      dtype=float32)"
      ]
     },
     "execution_count": 9,
     "metadata": {},
     "output_type": "execute_result"
    }
   ],
   "source": [
    "word_embeddings['علاش']"
   ]
  },
  {
   "cell_type": "code",
   "execution_count": 13,
   "metadata": {},
   "outputs": [],
   "source": [
    "#Reshape dataset\n",
    "import numpy as np\n",
    "indices = np.arange(data.shape[0])\n",
    "np.random.shuffle(indices)\n",
    "data = data[indices]"
   ]
  },
  {
   "cell_type": "code",
   "execution_count": 14,
   "metadata": {},
   "outputs": [
    {
     "data": {
      "text/plain": [
       "(23000, 60)"
      ]
     },
     "execution_count": 14,
     "metadata": {},
     "output_type": "execute_result"
    }
   ],
   "source": [
    "data.shape"
   ]
  },
  {
   "cell_type": "code",
   "execution_count": 15,
   "metadata": {},
   "outputs": [
    {
     "name": "stdout",
     "output_type": "stream",
     "text": [
      "Total 82906 word vectors in MA CBOW model 300d.\n"
     ]
    }
   ],
   "source": [
    "embeddings_index = {}\n",
    "f = open('ma_model_cbow_mix.txt', encoding='utf-8')\n",
    "for line in f:\n",
    "    values = line.split()\n",
    "    word = values[0]\n",
    "    coefs = np.asarray(values[1:], dtype='float32')\n",
    "    embeddings_index[word] = coefs\n",
    "f.close()\n",
    "print('Total %s word vectors in MA CBOW model 300d.' % len(embeddings_index))"
   ]
  },
  {
   "cell_type": "code",
   "execution_count": 18,
   "metadata": {},
   "outputs": [
    {
     "name": "stdout",
     "output_type": "stream",
     "text": [
      "Shape of Data Tensor: (75034, 300)\n"
     ]
    }
   ],
   "source": [
    "#Embedding Matrix\n",
    "EMBEDDING_DIM = 300\n",
    "embedding_matrix = np.random.random((len(word_index) + 1, EMBEDDING_DIM))\n",
    "for word, i in word_index.items():\n",
    "    embedding_vector = embeddings_index.get(word)\n",
    "    if embedding_vector is not None:\n",
    "        # words not found in embedding index will be all-zeros.\n",
    "        embedding_matrix[i] = embedding_vector\n",
    "        \n",
    "print('Shape of Data Tensor:', embedding_matrix.shape)"
   ]
  },
  {
   "cell_type": "markdown",
   "metadata": {},
   "source": [
    "4. Modeling"
   ]
  },
  {
   "cell_type": "code",
   "execution_count": 23,
   "metadata": {},
   "outputs": [],
   "source": [
    "from tensorflow.keras.models import Sequential\n",
    "from tensorflow.keras.layers import LSTM, GRU, Dense, Input, Embedding, Dropout, Bidirectional, BatchNormalization\n",
    "from tensorflow.keras.models import Model\n",
    "from tensorflow.keras.optimizers import Adam"
   ]
  },
  {
   "cell_type": "code",
   "execution_count": 46,
   "metadata": {},
   "outputs": [],
   "source": [
    "model = Sequential()\n",
    "model.add(Embedding(input_dim=embedding_matrix.shape[0],\n",
    "                    output_dim = embedding_matrix.shape[1],\n",
    "                    input_length=MAX_SEQUENCE_LENGTH,\n",
    "                    weights=[embedding_matrix],\n",
    "                    trainable=False))\n",
    "model.add(LSTM(128, dropout=0.3, activation='relu', return_sequences=True))\n",
    "model.add(BatchNormalization())\n",
    "model.add(LSTM(64, dropout=0.3, activation='relu', return_sequences=False))\n",
    "model.add(BatchNormalization())\n",
    "model.add(Dense(1, activation='sigmoid'))"
   ]
  },
  {
   "cell_type": "code",
   "execution_count": 59,
   "metadata": {},
   "outputs": [],
   "source": [
    "model = Sequential()\n",
    "model.add(Embedding(input_dim=embedding_matrix.shape[0],\n",
    "                    output_dim = embedding_matrix.shape[1],\n",
    "                    input_length=MAX_SEQUENCE_LENGTH,\n",
    "                    weights=[embedding_matrix],\n",
    "                    trainable=False))\n",
    "model.add(GRU(128, dropout=0.3, activation='relu', return_sequences=True))\n",
    "model.add(BatchNormalization())\n",
    "model.add(GRU(64, dropout=0.3, activation='relu', return_sequences=False))\n",
    "model.add(BatchNormalization())\n",
    "model.add(Dense(1, activation='sigmoid'))"
   ]
  },
  {
   "cell_type": "code",
   "execution_count": 60,
   "metadata": {},
   "outputs": [],
   "source": [
    "opt = tf.keras.optimizers.Adam(learning_rate=1e-3)\n",
    "model.compile(optimizer=opt,\n",
    "              loss='binary_crossentropy',\n",
    "              metrics=['acc'])"
   ]
  },
  {
   "cell_type": "code",
   "execution_count": 71,
   "metadata": {},
   "outputs": [],
   "source": [
    "inp = Input(shape=(MAX_SEQUENCE_LENGTH))\n",
    "x = Embedding(input_dim=embedding_matrix.shape[0],\n",
    "              output_dim=embedding_matrix.shape[1],\n",
    "              weights=[embedding_matrix],\n",
    "              input_length = MAX_SEQUENCE_LENGTH,\n",
    "              trainable=False)(inp)\n",
    "x = Bidirectional(LSTM(128, dropout=0.3, activation=\"relu\", return_sequences = True))(x) \n",
    "x = BatchNormalization()(x)\n",
    "x = Bidirectional(LSTM(64, dropout=0.3, activation=\"relu\", return_sequences = False))(x)\n",
    "x = BatchNormalization()(x)\n",
    "x = Dense(64, activation=\"sigmoid\")(x)\n",
    "x = BatchNormalization()(x)\n",
    "x = Dense(1, activation=\"sigmoid\")(x)\n",
    "model = Model(inputs=inp, outputs=x)\n",
    "\n",
    "opt = tf.keras.optimizers.Adam(learning_rate=1e-3)\n",
    "\n",
    "lr_schedule = keras.optimizers.schedules.ExponentialDecay(\n",
    "    initial_learning_rate=1e-5,\n",
    "    decay_steps=5000,\n",
    "    decay_rate=0.05)\n",
    "#opt = keras.optimizers.SGD(learning_rate=lr_schedule)\n",
    "\n",
    "model.compile(loss='binary_crossentropy', \n",
    "              optimizer=opt, \n",
    "              metrics=['acc'])"
   ]
  },
  {
   "cell_type": "code",
   "execution_count": 28,
   "metadata": {},
   "outputs": [
    {
     "data": {
      "text/plain": [
       "(75034, 300)"
      ]
     },
     "execution_count": 28,
     "metadata": {},
     "output_type": "execute_result"
    }
   ],
   "source": [
    "embedding_matrix.shape"
   ]
  },
  {
   "cell_type": "markdown",
   "metadata": {},
   "source": [
    "5. Data splitting"
   ]
  },
  {
   "cell_type": "code",
   "execution_count": 29,
   "metadata": {},
   "outputs": [],
   "source": [
    "X = data\n",
    "y = df.decision"
   ]
  },
  {
   "cell_type": "code",
   "execution_count": 30,
   "metadata": {},
   "outputs": [
    {
     "data": {
      "text/plain": [
       "array([[ 3652, 21400,  1002,  4520,  1925,     0,     0,     0,     0,\n",
       "            0,     0,     0,     0,     0,     0,     0,     0,     0,\n",
       "            0,     0,     0,     0,     0,     0,     0,     0,     0,\n",
       "            0,     0,     0,     0,     0,     0,     0,     0,     0,\n",
       "            0,     0,     0,     0,     0,     0,     0,     0,     0,\n",
       "            0,     0,     0,     0,     0,     0,     0,     0,     0,\n",
       "            0,     0,     0,     0,     0,     0],\n",
       "       [   19,  4087,     2,    26,  2100,     9, 10337, 26427,    47,\n",
       "         1296,    77,    97,  1329, 26428,   241,     2,    14, 26429,\n",
       "         8020,    47,   285,    56,     0,     0,     0,     0,     0,\n",
       "            0,     0,     0,     0,     0,     0,     0,     0,     0,\n",
       "            0,     0,     0,     0,     0,     0,     0,     0,     0,\n",
       "            0,     0,     0,     0,     0,     0,     0,     0,     0,\n",
       "            0,     0,     0,     0,     0,     0],\n",
       "       [  107,    42,     8,    70,     9,   116,     0,     0,     0,\n",
       "            0,     0,     0,     0,     0,     0,     0,     0,     0,\n",
       "            0,     0,     0,     0,     0,     0,     0,     0,     0,\n",
       "            0,     0,     0,     0,     0,     0,     0,     0,     0,\n",
       "            0,     0,     0,     0,     0,     0,     0,     0,     0,\n",
       "            0,     0,     0,     0,     0,     0,     0,     0,     0,\n",
       "            0,     0,     0,     0,     0,     0]])"
      ]
     },
     "execution_count": 30,
     "metadata": {},
     "output_type": "execute_result"
    }
   ],
   "source": [
    "X[0:3]"
   ]
  },
  {
   "cell_type": "code",
   "execution_count": 31,
   "metadata": {},
   "outputs": [
    {
     "data": {
      "text/plain": [
       "0    1\n",
       "1    1\n",
       "2    1\n",
       "Name: decision, dtype: int64"
      ]
     },
     "execution_count": 31,
     "metadata": {},
     "output_type": "execute_result"
    }
   ],
   "source": [
    "y[0:3]"
   ]
  },
  {
   "cell_type": "code",
   "execution_count": 32,
   "metadata": {},
   "outputs": [
    {
     "name": "stderr",
     "output_type": "stream",
     "text": [
      "C:\\Users\\Dell\\Anaconda3\\lib\\site-packages\\sklearn\\utils\\validation.py:595: DataConversionWarning: Data with input dtype int32 was converted to float64 by StandardScaler.\n",
      "  warnings.warn(msg, DataConversionWarning)\n",
      "C:\\Users\\Dell\\Anaconda3\\lib\\site-packages\\sklearn\\utils\\validation.py:595: DataConversionWarning: Data with input dtype int32 was converted to float64 by StandardScaler.\n",
      "  warnings.warn(msg, DataConversionWarning)\n"
     ]
    }
   ],
   "source": [
    "\"\"\" Sckaling and Splitting the dataset into training, validation and test sets \"\"\"\n",
    "from sklearn.preprocessing import StandardScaler\n",
    "from sklearn.model_selection import train_test_split\n",
    "\n",
    "scaler = StandardScaler()\n",
    "X_sacaled=scaler.fit_transform(X)\n",
    "\n",
    "train_X, temp_X, train_y, temp_y = train_test_split(X_sacaled, y, random_state=50, test_size=0.3)\n",
    "\n",
    "val_X, test_X, val_y, test_y = train_test_split(temp_X, temp_y, random_state=50, test_size=0.5)"
   ]
  },
  {
   "cell_type": "code",
   "execution_count": 103,
   "metadata": {
    "collapsed": true
   },
   "outputs": [
    {
     "data": {
      "text/plain": [
       "array([[-0.43347176, -0.47026806, -0.42547837, -0.50554337, -0.05374429,\n",
       "        -0.28953975, -0.41113584, -0.39041364,  1.21574264, -0.35744544,\n",
       "        -0.34400377, -0.32721317, -0.3160984 , -0.29413118, -0.28462509,\n",
       "        -0.27100943, -0.25848987, -0.24458308, -0.23633566, -0.2275233 ,\n",
       "        -0.2177029 , -0.20975404, -0.2047902 , -0.19281332, -0.193013  ,\n",
       "        -0.1826344 , -0.18070872, -0.16945931, -0.16377389, -0.16415078,\n",
       "        -0.15803773, -0.152939  , -0.14494784, -0.14039346, -0.13745062,\n",
       "        -0.12934839, -0.12751047, -0.12323784, -0.12049472, -0.1222893 ,\n",
       "        -0.11633793, -0.11251934, -0.11169008, -0.10915887, -0.10636714,\n",
       "        -0.1043945 , -0.10514416, -0.1055905 , -0.0981657 , -0.09372086,\n",
       "        -0.08994072, -0.09122515, -0.08422031, -0.08920633, -0.08275944,\n",
       "        -0.08287954, -0.08412545, -0.07987521, -0.07776635, -0.0878589 ],\n",
       "       [-0.44940814, -0.51519638, -0.52274184,  0.14756055,  1.97567784,\n",
       "        -0.45580202, -0.41497729, -0.4068492 , -0.38123383, -0.37027583,\n",
       "        -0.34400377, -0.32721317, -0.3160984 , -0.29413118, -0.28462509,\n",
       "        -0.27100943, -0.25848987, -0.24458308, -0.23633566, -0.2275233 ,\n",
       "        -0.2177029 , -0.20975404, -0.2047902 , -0.19281332, -0.193013  ,\n",
       "        -0.1826344 , -0.18070872, -0.16945931, -0.16377389, -0.16415078,\n",
       "        -0.15803773, -0.152939  , -0.14494784, -0.14039346, -0.13745062,\n",
       "        -0.12934839, -0.12751047, -0.12323784, -0.12049472, -0.1222893 ,\n",
       "        -0.11633793, -0.11251934, -0.11169008, -0.10915887, -0.10636714,\n",
       "        -0.1043945 , -0.10514416, -0.1055905 , -0.0981657 , -0.09372086,\n",
       "        -0.08994072, -0.09122515, -0.08422031, -0.08920633, -0.08275944,\n",
       "        -0.08287954, -0.08412545, -0.07987521, -0.07776635, -0.0878589 ],\n",
       "       [-0.44280333, -0.51033493, -0.51254012, -0.50124954, -0.48770381,\n",
       "        -0.45726302, -0.42961138, -0.4068492 , -0.38123383, -0.37027583,\n",
       "        -0.34400377, -0.32721317, -0.3160984 , -0.29413118, -0.28462509,\n",
       "        -0.27100943, -0.25848987, -0.24458308, -0.23633566, -0.2275233 ,\n",
       "        -0.2177029 , -0.20975404, -0.2047902 , -0.19281332, -0.193013  ,\n",
       "        -0.1826344 , -0.18070872, -0.16945931, -0.16377389, -0.16415078,\n",
       "        -0.15803773, -0.152939  , -0.14494784, -0.14039346, -0.13745062,\n",
       "        -0.12934839, -0.12751047, -0.12323784, -0.12049472, -0.1222893 ,\n",
       "        -0.11633793, -0.11251934, -0.11169008, -0.10915887, -0.10636714,\n",
       "        -0.1043945 , -0.10514416, -0.1055905 , -0.0981657 , -0.09372086,\n",
       "        -0.08994072, -0.09122515, -0.08422031, -0.08920633, -0.08275944,\n",
       "        -0.08287954, -0.08412545, -0.07987521, -0.07776635, -0.0878589 ]])"
      ]
     },
     "execution_count": 103,
     "metadata": {},
     "output_type": "execute_result"
    }
   ],
   "source": [
    "train_X[0:3]"
   ]
  },
  {
   "cell_type": "code",
   "execution_count": 104,
   "metadata": {},
   "outputs": [
    {
     "data": {
      "text/plain": [
       "(16100, 60)"
      ]
     },
     "execution_count": 104,
     "metadata": {},
     "output_type": "execute_result"
    }
   ],
   "source": [
    "train_X.shape"
   ]
  },
  {
   "cell_type": "code",
   "execution_count": 105,
   "metadata": {},
   "outputs": [
    {
     "data": {
      "text/plain": [
       "(16100,)"
      ]
     },
     "execution_count": 105,
     "metadata": {},
     "output_type": "execute_result"
    }
   ],
   "source": [
    "train_y.shape"
   ]
  },
  {
   "cell_type": "code",
   "execution_count": 106,
   "metadata": {},
   "outputs": [
    {
     "data": {
      "text/plain": [
       "(3450, 60)"
      ]
     },
     "execution_count": 106,
     "metadata": {},
     "output_type": "execute_result"
    }
   ],
   "source": [
    "val_X.shape"
   ]
  },
  {
   "cell_type": "code",
   "execution_count": 107,
   "metadata": {},
   "outputs": [
    {
     "data": {
      "text/plain": [
       "(3450,)"
      ]
     },
     "execution_count": 107,
     "metadata": {},
     "output_type": "execute_result"
    }
   ],
   "source": [
    "val_y.shape"
   ]
  },
  {
   "cell_type": "code",
   "execution_count": 108,
   "metadata": {},
   "outputs": [
    {
     "data": {
      "text/plain": [
       "(3450, 60)"
      ]
     },
     "execution_count": 108,
     "metadata": {},
     "output_type": "execute_result"
    }
   ],
   "source": [
    "test_X.shape"
   ]
  },
  {
   "cell_type": "code",
   "execution_count": 123,
   "metadata": {},
   "outputs": [
    {
     "data": {
      "text/plain": [
       "(3450,)"
      ]
     },
     "execution_count": 123,
     "metadata": {},
     "output_type": "execute_result"
    }
   ],
   "source": [
    "test_y.shape"
   ]
  },
  {
   "cell_type": "code",
   "execution_count": 126,
   "metadata": {},
   "outputs": [
    {
     "data": {
      "text/plain": [
       "dtype('int64')"
      ]
     },
     "execution_count": 126,
     "metadata": {},
     "output_type": "execute_result"
    }
   ],
   "source": [
    "test_y.dtype"
   ]
  },
  {
   "cell_type": "code",
   "execution_count": 72,
   "metadata": {},
   "outputs": [
    {
     "name": "stdout",
     "output_type": "stream",
     "text": [
      "Epoch 1/5\n",
      "504/504 [==============================] - 159s 305ms/step - loss: 0.7365 - acc: 0.4963 - val_loss: 0.7041 - val_acc: 0.4933\n",
      "Epoch 2/5\n",
      "504/504 [==============================] - 154s 306ms/step - loss: 0.7124 - acc: 0.4949 - val_loss: 0.6980 - val_acc: 0.5038\n",
      "Epoch 3/5\n",
      "504/504 [==============================] - 152s 302ms/step - loss: 0.7022 - acc: 0.4977 - val_loss: 0.6994 - val_acc: 0.4977\n",
      "Epoch 4/5\n",
      "504/504 [==============================] - 152s 302ms/step - loss: 0.7011 - acc: 0.5030 - val_loss: 0.6980 - val_acc: 0.4875\n",
      "Epoch 5/5\n",
      "504/504 [==============================] - 152s 302ms/step - loss: 0.7000 - acc: 0.4979 - val_loss: 0.6978 - val_acc: 0.5032\n"
     ]
    }
   ],
   "source": [
    "history = model.fit(train_X, train_y,\n",
    "          epochs=5, \n",
    "          batch_size=32,\n",
    "          validation_data=(val_X, val_y),\n",
    "          verbose=1)"
   ]
  },
  {
   "cell_type": "markdown",
   "metadata": {},
   "source": [
    "### Ploting the training and validation loss "
   ]
  },
  {
   "cell_type": "code",
   "execution_count": 65,
   "metadata": {},
   "outputs": [
    {
     "data": {
      "image/png": "[encoded data removed]",
      "text/plain": [
       "<Figure size 432x288 with 1 Axes>"
      ]
     },
     "metadata": {
      "needs_background": "light"
     },
     "output_type": "display_data"
    }
   ],
   "source": [
    "import matplotlib.pyplot as plt\n",
    "history_dict = history.history\n",
    "loss_values = history_dict[\"loss\"]\n",
    "val_loss_values = history_dict[\"val_loss\"]\n",
    "epochs = range(1, len(loss_values) + 1)\n",
    "plt.plot(epochs, loss_values, \"b\", label=\"Training loss\")\n",
    "plt.plot(epochs, val_loss_values, \"r\", label=\"Validation loss\")\n",
    "plt.title(\"Training and validation loss\")\n",
    "plt.xlabel(\"Epochs\")\n",
    "plt.ylabel(\"Loss\")\n",
    "plt.legend()\n",
    "plt.show()"
   ]
  },
  {
   "cell_type": "code",
   "execution_count": 73,
   "metadata": {},
   "outputs": [
    {
     "name": "stdout",
     "output_type": "stream",
     "text": [
      "Evaluate on test data\n",
      "27/27 [==============================] - 7s 239ms/step - loss: 0.6962 - acc: 0.5035\n",
      "test loss, test acc: [0.6961997747421265, 0.5034782886505127]\n"
     ]
    }
   ],
   "source": [
    "# Evaluate the model on the test data\n",
    "print(\"Evaluate on test data\")\n",
    "results = model.evaluate(test_X, test_y, batch_size=128)\n",
    "print(\"test loss, test acc:\", results)"
   ]
  },
  {
   "cell_type": "code",
   "execution_count": 43,
   "metadata": {},
   "outputs": [
    {
     "name": "stdout",
     "output_type": "stream",
     "text": [
      "WARNING:tensorflow:Model was constructed with shape (None, 60) for input KerasTensor(type_spec=TensorSpec(shape=(None, 60), dtype=tf.float32, name='embedding_2_input'), name='embedding_2_input', description=\"created by layer 'embedding_2_input'\"), but it was called on an input with incompatible shape (None, 1).\n"
     ]
    }
   ],
   "source": [
    "pred_y=[np.argmax(model.predict(test_X[i]))for i in range(0, len(test_X)-1)]"
   ]
  },
  {
   "cell_type": "code",
   "execution_count": 45,
   "metadata": {},
   "outputs": [
    {
     "data": {
      "text/plain": [
       "[3,\n",
       " 6,\n",
       " 0,\n",
       " 0,\n",
       " 4,\n",
       " 17,\n",
       " 0,\n",
       " 3,\n",
       " 5,\n",
       " 5,\n",
       " 0,\n",
       " 1,\n",
       " 0,\n",
       " 0,\n",
       " 5,\n",
       " 43,\n",
       " 41,\n",
       " 1,\n",
       " 0,\n",
       " 6,\n",
       " 0,\n",
       " 2,\n",
       " 15,\n",
       " 0,\n",
       " 14,\n",
       " 4,\n",
       " 12,\n",
       " 0,\n",
       " 0,\n",
       " 21,\n",
       " 0,\n",
       " 0,\n",
       " 15,\n",
       " 1,\n",
       " 2,\n",
       " 0,\n",
       " 0,\n",
       " 14,\n",
       " 8,\n",
       " 16,\n",
       " 54,\n",
       " 5,\n",
       " 2,\n",
       " 0,\n",
       " 8,\n",
       " 0,\n",
       " 9,\n",
       " 2,\n",
       " 0,\n",
       " 1,\n",
       " 6,\n",
       " 14,\n",
       " 0,\n",
       " 7,\n",
       " 7,\n",
       " 0,\n",
       " 1,\n",
       " 1,\n",
       " 0,\n",
       " 0,\n",
       " 0,\n",
       " 0,\n",
       " 0,\n",
       " 3,\n",
       " 0,\n",
       " 1,\n",
       " 12,\n",
       " 4,\n",
       " 1,\n",
       " 0,\n",
       " 0,\n",
       " 0,\n",
       " 15,\n",
       " 0,\n",
       " 0,\n",
       " 6,\n",
       " 0,\n",
       " 0,\n",
       " 0,\n",
       " 22,\n",
       " 0,\n",
       " 9,\n",
       " 0,\n",
       " 0,\n",
       " 9,\n",
       " 26,\n",
       " 0,\n",
       " 14,\n",
       " 10,\n",
       " 4,\n",
       " 0,\n",
       " 1,\n",
       " 0,\n",
       " 2,\n",
       " 0,\n",
       " 0,\n",
       " 0,\n",
       " 1,\n",
       " 0,\n",
       " 4,\n",
       " 13,\n",
       " 4,\n",
       " 0,\n",
       " 1,\n",
       " 0,\n",
       " 3,\n",
       " 5,\n",
       " 2,\n",
       " 0,\n",
       " 35,\n",
       " 2,\n",
       " 0,\n",
       " 0,\n",
       " 7,\n",
       " 0,\n",
       " 5,\n",
       " 7,\n",
       " 15,\n",
       " 0,\n",
       " 16,\n",
       " 0,\n",
       " 0,\n",
       " 0,\n",
       " 3,\n",
       " 7,\n",
       " 0,\n",
       " 2,\n",
       " 0,\n",
       " 42,\n",
       " 1,\n",
       " 0,\n",
       " 1,\n",
       " 9,\n",
       " 0,\n",
       " 5,\n",
       " 5,\n",
       " 4,\n",
       " 0,\n",
       " 4,\n",
       " 15,\n",
       " 3,\n",
       " 0,\n",
       " 1,\n",
       " 1,\n",
       " 0,\n",
       " 0,\n",
       " 14,\n",
       " 0,\n",
       " 0,\n",
       " 0,\n",
       " 0,\n",
       " 0,\n",
       " 1,\n",
       " 0,\n",
       " 5,\n",
       " 10,\n",
       " 0,\n",
       " 2,\n",
       " 0,\n",
       " 2,\n",
       " 5,\n",
       " 6,\n",
       " 1,\n",
       " 11,\n",
       " 0,\n",
       " 5,\n",
       " 12,\n",
       " 7,\n",
       " 11,\n",
       " 3,\n",
       " 9,\n",
       " 8,\n",
       " 9,\n",
       " 0,\n",
       " 37,\n",
       " 0,\n",
       " 18,\n",
       " 0,\n",
       " 4,\n",
       " 0,\n",
       " 0,\n",
       " 3,\n",
       " 0,\n",
       " 8,\n",
       " 0,\n",
       " 0,\n",
       " 0,\n",
       " 0,\n",
       " 0,\n",
       " 13,\n",
       " 4,\n",
       " 1,\n",
       " 0,\n",
       " 2,\n",
       " 23,\n",
       " 23,\n",
       " 6,\n",
       " 11,\n",
       " 0,\n",
       " 0,\n",
       " 0,\n",
       " 5,\n",
       " 1,\n",
       " 8,\n",
       " 4,\n",
       " 3,\n",
       " 9,\n",
       " 0,\n",
       " 1,\n",
       " 0,\n",
       " 0,\n",
       " 0,\n",
       " 10,\n",
       " 5,\n",
       " 0,\n",
       " 0,\n",
       " 0,\n",
       " 2,\n",
       " 35,\n",
       " 3,\n",
       " 3,\n",
       " 0,\n",
       " 0,\n",
       " 4,\n",
       " 13,\n",
       " 3,\n",
       " 4,\n",
       " 1,\n",
       " 4,\n",
       " 19,\n",
       " 12,\n",
       " 0,\n",
       " 0,\n",
       " 1,\n",
       " 13,\n",
       " 0,\n",
       " 7,\n",
       " 3,\n",
       " 8,\n",
       " 0,\n",
       " 1,\n",
       " 0,\n",
       " 2,\n",
       " 10,\n",
       " 0,\n",
       " 1,\n",
       " 0,\n",
       " 15,\n",
       " 6,\n",
       " 1,\n",
       " 7,\n",
       " 1,\n",
       " 0,\n",
       " 44,\n",
       " 0,\n",
       " 7,\n",
       " 0,\n",
       " 0,\n",
       " 6,\n",
       " 11,\n",
       " 3,\n",
       " 1,\n",
       " 9,\n",
       " 0,\n",
       " 0,\n",
       " 0,\n",
       " 0,\n",
       " 9,\n",
       " 0,\n",
       " 19,\n",
       " 0,\n",
       " 11,\n",
       " 0,\n",
       " 2,\n",
       " 0,\n",
       " 0,\n",
       " 11,\n",
       " 2,\n",
       " 45,\n",
       " 0,\n",
       " 8,\n",
       " 6,\n",
       " 8,\n",
       " 2,\n",
       " 4,\n",
       " 0,\n",
       " 0,\n",
       " 12,\n",
       " 2,\n",
       " 1,\n",
       " 0,\n",
       " 1,\n",
       " 5,\n",
       " 0,\n",
       " 14,\n",
       " 0,\n",
       " 0,\n",
       " 2,\n",
       " 0,\n",
       " 0,\n",
       " 0,\n",
       " 0,\n",
       " 1,\n",
       " 15,\n",
       " 1,\n",
       " 0,\n",
       " 0,\n",
       " 2,\n",
       " 0,\n",
       " 4,\n",
       " 4,\n",
       " 0,\n",
       " 4,\n",
       " 13,\n",
       " 0,\n",
       " 0,\n",
       " 0,\n",
       " 0,\n",
       " 0,\n",
       " 0,\n",
       " 1,\n",
       " 0,\n",
       " 0,\n",
       " 0,\n",
       " 9,\n",
       " 2,\n",
       " 0,\n",
       " 0,\n",
       " 0,\n",
       " 2,\n",
       " 5,\n",
       " 0,\n",
       " 0,\n",
       " 4,\n",
       " 6,\n",
       " 1,\n",
       " 0,\n",
       " 0,\n",
       " 3,\n",
       " 0,\n",
       " 0,\n",
       " 21,\n",
       " 0,\n",
       " 14,\n",
       " 0,\n",
       " 0,\n",
       " 0,\n",
       " 5,\n",
       " 1,\n",
       " 11,\n",
       " 4,\n",
       " 0,\n",
       " 0,\n",
       " 0,\n",
       " 10,\n",
       " 55,\n",
       " 3,\n",
       " 2,\n",
       " 0,\n",
       " 12,\n",
       " 5,\n",
       " 7,\n",
       " 0,\n",
       " 1,\n",
       " 0,\n",
       " 15,\n",
       " 3,\n",
       " 3,\n",
       " 21,\n",
       " 1,\n",
       " 15,\n",
       " 1,\n",
       " 0,\n",
       " 42,\n",
       " 1,\n",
       " 9,\n",
       " 0,\n",
       " 0,\n",
       " 16,\n",
       " 11,\n",
       " 4,\n",
       " 4,\n",
       " 0,\n",
       " 0,\n",
       " 0,\n",
       " 1,\n",
       " 0,\n",
       " 12,\n",
       " 15,\n",
       " 14,\n",
       " 6,\n",
       " 0,\n",
       " 3,\n",
       " 3,\n",
       " 7,\n",
       " 1,\n",
       " 0,\n",
       " 3,\n",
       " 2,\n",
       " 0,\n",
       " 0,\n",
       " 5,\n",
       " 2,\n",
       " 0,\n",
       " 0,\n",
       " 4,\n",
       " 0,\n",
       " 2,\n",
       " 0,\n",
       " 7,\n",
       " 0,\n",
       " 18,\n",
       " 22,\n",
       " 17,\n",
       " 13,\n",
       " 0,\n",
       " 3,\n",
       " 4,\n",
       " 0,\n",
       " 0,\n",
       " 0,\n",
       " 4,\n",
       " 5,\n",
       " 17,\n",
       " 0,\n",
       " 0,\n",
       " 0,\n",
       " 0,\n",
       " 1,\n",
       " 3,\n",
       " 18,\n",
       " 6,\n",
       " 0,\n",
       " 0,\n",
       " 2,\n",
       " 0,\n",
       " 0,\n",
       " 1,\n",
       " 0,\n",
       " 0,\n",
       " 1,\n",
       " 4,\n",
       " 17,\n",
       " 0,\n",
       " 17,\n",
       " 13,\n",
       " 5,\n",
       " 0,\n",
       " 9,\n",
       " 0,\n",
       " 2,\n",
       " 22,\n",
       " 1,\n",
       " 0,\n",
       " 4,\n",
       " 0,\n",
       " 0,\n",
       " 0,\n",
       " 5,\n",
       " 0,\n",
       " 2,\n",
       " 7,\n",
       " 0,\n",
       " 0,\n",
       " 0,\n",
       " 0,\n",
       " 0,\n",
       " 1,\n",
       " 7,\n",
       " 2,\n",
       " 13,\n",
       " 13,\n",
       " 0,\n",
       " 41,\n",
       " 0,\n",
       " 0,\n",
       " 7,\n",
       " 2,\n",
       " 5,\n",
       " 0,\n",
       " 3,\n",
       " 17,\n",
       " 0,\n",
       " 1,\n",
       " 0,\n",
       " 0,\n",
       " 1,\n",
       " 2,\n",
       " 13,\n",
       " 0,\n",
       " 0,\n",
       " 0,\n",
       " 17,\n",
       " 1,\n",
       " 1,\n",
       " 6,\n",
       " 16,\n",
       " 1,\n",
       " 0,\n",
       " 0,\n",
       " 18,\n",
       " 3,\n",
       " 0,\n",
       " 2,\n",
       " 11,\n",
       " 25,\n",
       " 0,\n",
       " 4,\n",
       " 1,\n",
       " 13,\n",
       " 2,\n",
       " 0,\n",
       " 29,\n",
       " 2,\n",
       " 3,\n",
       " 2,\n",
       " 0,\n",
       " 7,\n",
       " 7,\n",
       " 14,\n",
       " 0,\n",
       " 0,\n",
       " 0,\n",
       " 0,\n",
       " 7,\n",
       " 0,\n",
       " 4,\n",
       " 1,\n",
       " 5,\n",
       " 0,\n",
       " 17,\n",
       " 0,\n",
       " 2,\n",
       " 0,\n",
       " 0,\n",
       " 0,\n",
       " 5,\n",
       " 1,\n",
       " 9,\n",
       " 1,\n",
       " 7,\n",
       " 0,\n",
       " 6,\n",
       " 1,\n",
       " 3,\n",
       " 11,\n",
       " 8,\n",
       " 0,\n",
       " 0,\n",
       " 0,\n",
       " 0,\n",
       " 0,\n",
       " 2,\n",
       " 0,\n",
       " 3,\n",
       " 13,\n",
       " 0,\n",
       " 0,\n",
       " 0,\n",
       " 2,\n",
       " 1,\n",
       " 6,\n",
       " 0,\n",
       " 0,\n",
       " 9,\n",
       " 0,\n",
       " 2,\n",
       " 1,\n",
       " 12,\n",
       " 0,\n",
       " 45,\n",
       " 0,\n",
       " 1,\n",
       " 0,\n",
       " 4,\n",
       " 3,\n",
       " 0,\n",
       " 24,\n",
       " 0,\n",
       " 3,\n",
       " 7,\n",
       " 10,\n",
       " 0,\n",
       " 0,\n",
       " 0,\n",
       " 9,\n",
       " 0,\n",
       " 0,\n",
       " 1,\n",
       " 2,\n",
       " 2,\n",
       " 11,\n",
       " 3,\n",
       " 0,\n",
       " 10,\n",
       " 2,\n",
       " 0,\n",
       " 21,\n",
       " 9,\n",
       " 46,\n",
       " 1,\n",
       " 0,\n",
       " 5,\n",
       " 0,\n",
       " 0,\n",
       " 0,\n",
       " 9,\n",
       " 0,\n",
       " 1,\n",
       " 0,\n",
       " 25,\n",
       " 0,\n",
       " 2,\n",
       " 11,\n",
       " 0,\n",
       " 0,\n",
       " 4,\n",
       " 1,\n",
       " 14,\n",
       " 14,\n",
       " 0,\n",
       " 0,\n",
       " 0,\n",
       " 0,\n",
       " 0,\n",
       " 23,\n",
       " 0,\n",
       " 0,\n",
       " 2,\n",
       " 6,\n",
       " 13,\n",
       " 0,\n",
       " 10,\n",
       " 0,\n",
       " 0,\n",
       " 3,\n",
       " 21,\n",
       " 45,\n",
       " 0,\n",
       " 0,\n",
       " 1,\n",
       " 0,\n",
       " 0,\n",
       " 1,\n",
       " 7,\n",
       " 3,\n",
       " 9,\n",
       " 0,\n",
       " 2,\n",
       " 16,\n",
       " 2,\n",
       " 5,\n",
       " 2,\n",
       " 10,\n",
       " 0,\n",
       " 6,\n",
       " 0,\n",
       " 5,\n",
       " 6,\n",
       " 3,\n",
       " 0,\n",
       " 21,\n",
       " 0,\n",
       " 0,\n",
       " 1,\n",
       " 0,\n",
       " 0,\n",
       " 6,\n",
       " 0,\n",
       " 9,\n",
       " 1,\n",
       " 1,\n",
       " 2,\n",
       " 0,\n",
       " 0,\n",
       " 0,\n",
       " 0,\n",
       " 15,\n",
       " 0,\n",
       " 0,\n",
       " 2,\n",
       " 4,\n",
       " 9,\n",
       " 16,\n",
       " 0,\n",
       " 7,\n",
       " 0,\n",
       " 22,\n",
       " 1,\n",
       " 0,\n",
       " 0,\n",
       " 19,\n",
       " 23,\n",
       " 1,\n",
       " 0,\n",
       " 14,\n",
       " 3,\n",
       " 0,\n",
       " 1,\n",
       " 0,\n",
       " 24,\n",
       " 3,\n",
       " 11,\n",
       " 4,\n",
       " 3,\n",
       " 3,\n",
       " 2,\n",
       " 0,\n",
       " 2,\n",
       " 34,\n",
       " 4,\n",
       " 11,\n",
       " 2,\n",
       " 7,\n",
       " 0,\n",
       " 1,\n",
       " 0,\n",
       " 0,\n",
       " 0,\n",
       " 46,\n",
       " 1,\n",
       " 4,\n",
       " 0,\n",
       " 0,\n",
       " 15,\n",
       " 0,\n",
       " 0,\n",
       " 0,\n",
       " 0,\n",
       " 20,\n",
       " 8,\n",
       " 0,\n",
       " 4,\n",
       " 20,\n",
       " 0,\n",
       " 11,\n",
       " 0,\n",
       " 10,\n",
       " 3,\n",
       " 0,\n",
       " 0,\n",
       " 4,\n",
       " 0,\n",
       " 0,\n",
       " 12,\n",
       " 32,\n",
       " 3,\n",
       " 0,\n",
       " 0,\n",
       " 1,\n",
       " 10,\n",
       " 0,\n",
       " 9,\n",
       " 2,\n",
       " 1,\n",
       " 7,\n",
       " 7,\n",
       " 14,\n",
       " 0,\n",
       " 8,\n",
       " 0,\n",
       " 0,\n",
       " 4,\n",
       " 1,\n",
       " 0,\n",
       " 0,\n",
       " 0,\n",
       " 0,\n",
       " 20,\n",
       " 3,\n",
       " 0,\n",
       " 8,\n",
       " 17,\n",
       " 0,\n",
       " 5,\n",
       " 1,\n",
       " 6,\n",
       " 3,\n",
       " 17,\n",
       " 6,\n",
       " 0,\n",
       " 0,\n",
       " 1,\n",
       " 1,\n",
       " 1,\n",
       " 10,\n",
       " 15,\n",
       " 0,\n",
       " 0,\n",
       " 0,\n",
       " 45,\n",
       " 8,\n",
       " 4,\n",
       " 13,\n",
       " 0,\n",
       " 9,\n",
       " 0,\n",
       " 14,\n",
       " 0,\n",
       " 0,\n",
       " 0,\n",
       " 0,\n",
       " 0,\n",
       " 0,\n",
       " 15,\n",
       " 0,\n",
       " 0,\n",
       " 8,\n",
       " 0,\n",
       " 2,\n",
       " 0,\n",
       " 3,\n",
       " 0,\n",
       " 0,\n",
       " 0,\n",
       " 0,\n",
       " 0,\n",
       " 8,\n",
       " 0,\n",
       " 23,\n",
       " 1,\n",
       " 0,\n",
       " 0,\n",
       " 0,\n",
       " 6,\n",
       " 12,\n",
       " 4,\n",
       " 0,\n",
       " 8,\n",
       " 38,\n",
       " 0,\n",
       " 0,\n",
       " 1,\n",
       " 2,\n",
       " 9,\n",
       " 0,\n",
       " 0,\n",
       " 2,\n",
       " 7,\n",
       " 9,\n",
       " 40,\n",
       " 1,\n",
       " 0,\n",
       " 0,\n",
       " 2,\n",
       " 1,\n",
       " 1,\n",
       " 0,\n",
       " 0,\n",
       " 0,\n",
       " 1,\n",
       " 0,\n",
       " 0,\n",
       " 0,\n",
       " 2,\n",
       " 7,\n",
       " 10,\n",
       " 2,\n",
       " 1,\n",
       " 3,\n",
       " 0,\n",
       " 0,\n",
       " 0,\n",
       " 0,\n",
       " 3,\n",
       " 9,\n",
       " 0,\n",
       " 2,\n",
       " 0,\n",
       " 6,\n",
       " 0,\n",
       " 43,\n",
       " 0,\n",
       " 4,\n",
       " 0,\n",
       " 1,\n",
       " 0,\n",
       " 0,\n",
       " 8,\n",
       " 47,\n",
       " 0,\n",
       " 20,\n",
       " 0,\n",
       " 7,\n",
       " 0,\n",
       " 1,\n",
       " 8,\n",
       " 6,\n",
       " 0,\n",
       " 3,\n",
       " 2,\n",
       " 0,\n",
       " 14,\n",
       " 6,\n",
       " 0,\n",
       " 53,\n",
       " 0,\n",
       " 17,\n",
       " 7,\n",
       " 0,\n",
       " 1,\n",
       " 0,\n",
       " 1,\n",
       " 1,\n",
       " 8,\n",
       " 1,\n",
       " 0,\n",
       " 34,\n",
       " 9,\n",
       " 0,\n",
       " 26,\n",
       " 9,\n",
       " 18,\n",
       " 6,\n",
       " 0,\n",
       " 0,\n",
       " 5,\n",
       " 0,\n",
       " 9,\n",
       " 20,\n",
       " 0,\n",
       " 3,\n",
       " 2,\n",
       " 14,\n",
       " 6,\n",
       " 8,\n",
       " 0,\n",
       " 1,\n",
       " 1,\n",
       " 0,\n",
       " 0,\n",
       " 0,\n",
       " 2,\n",
       " 2,\n",
       " 0,\n",
       " 5,\n",
       " 2,\n",
       " 2,\n",
       " 0,\n",
       " 0,\n",
       " 0,\n",
       " 38,\n",
       " 6,\n",
       " 0,\n",
       " 23,\n",
       " 3,\n",
       " 0,\n",
       " 8,\n",
       " 9,\n",
       " 16,\n",
       " 5,\n",
       " 0,\n",
       " 12,\n",
       " 9,\n",
       " 0,\n",
       " 1,\n",
       " 2,\n",
       " 3,\n",
       " 0,\n",
       " 0,\n",
       " 1,\n",
       " 4,\n",
       " 1,\n",
       " 0,\n",
       " 2,\n",
       " 0,\n",
       " 2,\n",
       " 0,\n",
       " 0,\n",
       " 0,\n",
       " 0,\n",
       " 0,\n",
       " 0,\n",
       " 0,\n",
       " 1,\n",
       " 8,\n",
       " 0,\n",
       " 15,\n",
       " 7,\n",
       " 40,\n",
       " 0,\n",
       " 6,\n",
       " 4,\n",
       " 1,\n",
       " 17,\n",
       " 10,\n",
       " 0,\n",
       " 0,\n",
       " 0,\n",
       " 7,\n",
       " 1,\n",
       " 0,\n",
       " 2,\n",
       " 13,\n",
       " 10,\n",
       " 22,\n",
       " 0,\n",
       " 59,\n",
       " 7,\n",
       " 18,\n",
       " ...]"
      ]
     },
     "execution_count": 45,
     "metadata": {},
     "output_type": "execute_result"
    }
   ],
   "source": [
    "pred_y"
   ]
  },
  {
   "cell_type": "code",
   "execution_count": 74,
   "metadata": {},
   "outputs": [],
   "source": [
    "pred_y_probs=model.predict(test_X)"
   ]
  },
  {
   "cell_type": "code",
   "execution_count": 75,
   "metadata": {},
   "outputs": [],
   "source": [
    "#convert probs to binary values 0/1\n",
    "pred_y = (pred_y_probs > 0.5).astype(np.int)"
   ]
  },
  {
   "cell_type": "code",
   "execution_count": 57,
   "metadata": {},
   "outputs": [
    {
     "data": {
      "text/plain": [
       "array([[0],\n",
       "       [1],\n",
       "       [1],\n",
       "       ...,\n",
       "       [1],\n",
       "       [1],\n",
       "       [1]])"
      ]
     },
     "execution_count": 57,
     "metadata": {},
     "output_type": "execute_result"
    }
   ],
   "source": [
    "pred_y"
   ]
  },
  {
   "cell_type": "code",
   "execution_count": 78,
   "metadata": {},
   "outputs": [
    {
     "name": "stdout",
     "output_type": "stream",
     "text": [
      "              precision    recall  f1-score   support\n",
      "\n",
      "           0     0.5029    0.4962    0.4996      1723\n",
      "           1     0.5040    0.5107    0.5073      1727\n",
      "\n",
      "   micro avg     0.5035    0.5035    0.5035      3450\n",
      "   macro avg     0.5035    0.5035    0.5034      3450\n",
      "weighted avg     0.5035    0.5035    0.5035      3450\n",
      "\n"
     ]
    }
   ],
   "source": [
    "from sklearn.metrics import classification_report\n",
    "print(classification_report(test_y, pred_y, digits=4))"
   ]
  },
  {
   "cell_type": "code",
   "execution_count": 113,
   "metadata": {},
   "outputs": [
    {
     "name": "stdout",
     "output_type": "stream",
     "text": [
      "Generate predictions for 3 samples\n",
      "predictions shape: (3, 60, 1)\n"
     ]
    }
   ],
   "source": [
    "# Generate predictions (probabilities -- the output of the last layer) on new data \n",
    "print(\"Generate predictions for 3 samples\")\n",
    "predictions = model.predict(test_X[:3])\n",
    "print(\"predictions shape:\", predictions.shape)"
   ]
  },
  {
   "cell_type": "code",
   "execution_count": 114,
   "metadata": {},
   "outputs": [],
   "source": [
    "data_test=[]\n",
    "data_test=df.content[20000:]"
   ]
  },
  {
   "cell_type": "code",
   "execution_count": 129,
   "metadata": {},
   "outputs": [
    {
     "name": "stdout",
     "output_type": "stream",
     "text": [
      "Hh 9alak nssalo fih\n",
      "Prediction:  1\n",
      "Real Value:  0\n"
     ]
    }
   ],
   "source": [
    "print(data_test[20050])\n",
    "print(\"Prediction: \" , np.argmax(model.predict(test_X[50])))\n",
    "print(\"Real Value: \", test_y.iloc[50])"
   ]
  },
  {
   "cell_type": "code",
   "execution_count": 116,
   "metadata": {},
   "outputs": [
    {
     "name": "stdout",
     "output_type": "stream",
     "text": [
      "Asfi hayawanato lmaghreb\n",
      "Prediction:  [0.5438336  0.5438336  0.5438336  0.5438336  0.44186643 0.5438336\n",
      " 0.5438336  0.5438336  0.5438336  0.5438336  0.5438336  0.5438336\n",
      " 0.5438336  0.5438336  0.5438336  0.5438336  0.5438336  0.5438336\n",
      " 0.5438336  0.5438336  0.5438336  0.5438336  0.5438336  0.5438336\n",
      " 0.5438336  0.5438336  0.5438336  0.5438336  0.5438336  0.5438336\n",
      " 0.5438336  0.5438336  0.5438336  0.5438336  0.5438336  0.5438336\n",
      " 0.5438336  0.5438336  0.5438336  0.5438336  0.5438336  0.5438336\n",
      " 0.5438336  0.5438336  0.5438336  0.5438336  0.5438336  0.5438336\n",
      " 0.5438336  0.5438336  0.5438336  0.5438336  0.5438336  0.5438336\n",
      " 0.5438336  0.5438336  0.5438336  0.5438336  0.5438336  0.5438336 ]\n"
     ]
    }
   ],
   "source": [
    "print(data_test[22000])\n",
    "print(\"Prediction: \" , model.predict(test_X[2000]).flatten())"
   ]
  },
  {
   "cell_type": "code",
   "execution_count": null,
   "metadata": {},
   "outputs": [],
   "source": [
    "# import the metrics class\n",
    "from sklearn import metrics\n",
    "cnf_matrix = metrics.confusion_matrix(test_y, pred_y)\n",
    "cnf_matrix"
   ]
  }
 ],
 "metadata": {
  "kernelspec": {
   "display_name": "Python 3",
   "language": "python",
   "name": "python3"
  },
  "language_info": {
   "codemirror_mode": {
    "name": "ipython",
    "version": 3
   },
   "file_extension": ".py",
   "mimetype": "text/x-python",
   "name": "python",
   "nbconvert_exporter": "python",
   "pygments_lexer": "ipython3",
   "version": "3.7.3"
  }
 },
 "nbformat": 4,
 "nbformat_minor": 2
}
